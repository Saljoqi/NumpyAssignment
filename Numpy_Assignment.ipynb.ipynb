{
 "cells": [
  {
   "cell_type": "markdown",
   "metadata": {},
   "source": [
    "1. What is a Python library? Why we use Python libraries?\n",
    "\n",
    "Python library is a collection of related functions/ methods that is doing some specific task. Python library provides ready made tools which are nothing but a method/ function. As library is a collection of books, just as python library is a collection of related modules / methods. Bundles of code is there is a python library.\n",
    "\n",
    "We use python libraries to do various different tasks just by simply importing that required library and calling the ready made methods in it and our task is done.\n",
    "1) Python libraries provide tools for developers, so developers just use that tools without going into the details and logic of that tool.\n",
    "2) To make our project easier by just calling the methods.\n",
    "3) To make our code more readable.\n",
    "4) To make our code more optimized as libraries have methods more optimized.\n",
    "5) To increase re_usability. \n",
    "6) To make calculations easy for data science related projects."
   ]
  },
  {
   "cell_type": "markdown",
   "metadata": {},
   "source": [
    "2. What is the difference between Numpy array and List?\n",
    "\n",
    "NUMPY ARRAY:\n",
    "Numpy array is a container to store homogenous data in a contagious memory locations.\n",
    "1) Numpy array can store only homogenous data.\n",
    "2) In backened , numpy array actually stores data, not its references.\n",
    "3) When numpy array is declared, so a fixed size of locations in memory in a contagious manner is allocated to that numpy array which is static not dynamic.\n",
    "4) Calculations on Numpy array is faster as compared to list because of homogenous data in numpy array and data stored in continous manner.\n",
    "5) When an item is deleted from Numpy array, so that slot/ location become free or say empty.\n",
    "\n",
    "\n",
    "LIST:\n",
    "\n",
    "\n",
    "List is also a container to store hetrogenous data.\n",
    "1) List stores the hetreogenous data.\n",
    "2) In backened, list only stores the references of data which is stored somewhere in memory at different locations.list not actually stores data, it stores the hexa_decimal addresses of data.\n",
    "3) Data is stored at different locations, so data wise it may or may not be stored in contagious manner.\n",
    "4) References of that data is stored in list in continous manner.\n",
    "5) When an item is deleted from list, so it is dereferencing the address of that item from list.\n",
    "6) Calculations on list is slower as compare to Numpy array because list has hetreogenous data and also accessing an item from list takes time.\n",
    "\n"
   ]
  },
  {
   "cell_type": "markdown",
   "metadata": {},
   "source": [
    "3. Find the shape, size and dimension of the following array?\n",
    "\n",
    "[[1, 2, 3, 4]\n",
    "\n",
    "[5, 6, 7, 8],\n",
    "\n",
    "[9, 10, 11, 12]]"
   ]
  },
  {
   "cell_type": "code",
   "execution_count": 2,
   "metadata": {
    "vscode": {
     "languageId": "powershell"
    }
   },
   "outputs": [
    {
     "name": "stdout",
     "output_type": "stream",
     "text": [
      "(3, 4)\n",
      "12\n",
      "2\n"
     ]
    }
   ],
   "source": [
    "import numpy as np\n",
    "arr1 = np.array([[1,2,3,4],[5,6,7,8],[9,10,11,12]])\n",
    "print(np.shape(arr1))\n",
    "print(np.size(arr1))\n",
    "print(np.ndim(arr1))\n"
   ]
  },
  {
   "cell_type": "markdown",
   "metadata": {},
   "source": [
    "4. Write python code to access the first row of the following array?\n",
    "\n",
    "[[1, 2, 3, 4]\n",
    "\n",
    "[5, 6, 7, 8],\n",
    "\n",
    "[9, 10, 11, 12]]"
   ]
  },
  {
   "cell_type": "code",
   "execution_count": 3,
   "metadata": {
    "vscode": {
     "languageId": "powershell"
    }
   },
   "outputs": [
    {
     "name": "stdout",
     "output_type": "stream",
     "text": [
      "[1 2 3 4]\n"
     ]
    }
   ],
   "source": [
    "arr2 = np.array([[1, 2, 3, 4],[5, 6, 7, 8],[9, 10, 11, 12]])\n",
    "print(arr2[0])"
   ]
  },
  {
   "cell_type": "markdown",
   "metadata": {},
   "source": [
    "5. How do you access the element at the third row and fourth column from the given numpy array?\n",
    "\n",
    "[[1, 2, 3, 4]\n",
    "\n",
    "[5, 6, 7, 8],\n",
    "\n",
    "[9, 10, 11, 12]]"
   ]
  },
  {
   "cell_type": "code",
   "execution_count": 4,
   "metadata": {
    "vscode": {
     "languageId": "powershell"
    }
   },
   "outputs": [
    {
     "name": "stdout",
     "output_type": "stream",
     "text": [
      "12\n"
     ]
    }
   ],
   "source": [
    "arr3 = np.array([[1, 2, 3, 4],[5, 6, 7, 8],[9, 10, 11, 12]])\n",
    "print(arr3[2][3])"
   ]
  },
  {
   "cell_type": "markdown",
   "metadata": {},
   "source": [
    "6. Write code to extract all odd-indexed elements from the given numpy array?\n",
    "\n",
    "[[1, 2, 3, 4]\n",
    "\n",
    "[5, 6, 7, 8],\n",
    "\n",
    "[9, 10, 11, 12]]"
   ]
  },
  {
   "cell_type": "code",
   "execution_count": 32,
   "metadata": {
    "vscode": {
     "languageId": "powershell"
    }
   },
   "outputs": [
    {
     "name": "stdout",
     "output_type": "stream",
     "text": [
      "[[ 1  3]\n",
      " [ 5  7]\n",
      " [ 9 11]]\n"
     ]
    }
   ],
   "source": [
    "arr4 = np.array([[1, 2, 3, 4],[5, 6, 7, 8],[9, 10, 11, 12]])\n",
    "print(arr4[0:,[0,2]])\n",
    "# arr4[row_start : row_stop : step , col_start : col_stop : step]\n",
    "# print(arr4[0::,0::2])"
   ]
  },
  {
   "cell_type": "markdown",
   "metadata": {},
   "source": [
    "7. How can you generate a random 3x3 matrix with values between 0 and 1?"
   ]
  },
  {
   "cell_type": "code",
   "execution_count": 34,
   "metadata": {
    "vscode": {
     "languageId": "powershell"
    }
   },
   "outputs": [
    {
     "name": "stdout",
     "output_type": "stream",
     "text": [
      "[[0.00138105 0.20198558 0.20865268]\n",
      " [0.79700916 0.82800401 0.79629278]\n",
      " [0.66261646 0.17928692 0.21183408]]\n"
     ]
    }
   ],
   "source": [
    "arr5 = np.random.random((3,3))\n",
    "print(arr5)"
   ]
  },
  {
   "cell_type": "markdown",
   "metadata": {},
   "source": [
    "8. Describe the difference between np.random.rand and np.random.randn?"
   ]
  },
  {
   "cell_type": "code",
   "execution_count": 43,
   "metadata": {
    "vscode": {
     "languageId": "powershell"
    }
   },
   "outputs": [
    {
     "name": "stdout",
     "output_type": "stream",
     "text": [
      "Example of np.random.rand\n",
      "[[0.78006147 0.16831452 0.05571849]\n",
      " [0.86636207 0.31801284 0.97405519]\n",
      " [0.24915037 0.88590921 0.33115091]]\n",
      "1) np.random.rand print the array in the specified shape having random elements over [0,1] range in uniform distribution\n",
      "Example of np.random.randn\n",
      "[[0.18216389 0.13260901 0.31153612]\n",
      " [0.82559305 0.54221674 0.772797  ]\n",
      " [0.01678364 0.83965612 0.3914392 ]]\n",
      "1) np.random.rand print the array in the specified shape having random elements at [0,1] range in standard normal distribution\n"
     ]
    }
   ],
   "source": [
    "print(\"\"\"Example of np.random.rand\"\"\")\n",
    "print(np.random.rand(3,3))\n",
    "print(\"\"\"1) np.random.rand print the array in the specified shape having random elements over [0,1] range in uniform distribution\"\"\")\n",
    "print(\"\"\"Example of np.random.randn\"\"\")\n",
    "print(np.random.rand(3,3))\n",
    "print(\"\"\"1) np.random.rand print the array in the specified shape having random elements at [0,1] range in standard normal distribution\"\"\")"
   ]
  },
  {
   "cell_type": "markdown",
   "metadata": {},
   "source": [
    "9. Write code to increase the dimension of the following array?\n",
    "\n",
    "[[1, 2, 3, 4]\n",
    "\n",
    "[5, 6, 7, 8],\n",
    "\n",
    "[9, 10, 11, 12]]"
   ]
  },
  {
   "cell_type": "code",
   "execution_count": 58,
   "metadata": {
    "vscode": {
     "languageId": "powershell"
    }
   },
   "outputs": [
    {
     "name": "stdout",
     "output_type": "stream",
     "text": [
      "[[[ 1  2  3  4]\n",
      "  [ 5  6  7  8]\n",
      "  [ 9 10 11 12]]]\n",
      "3\n"
     ]
    }
   ],
   "source": [
    "arr6 = np.array([[1, 2, 3, 4],[5, 6, 7, 8],[9, 10, 11, 12]])\n",
    "print(np.expand_dims(arr6, axis = 0))\n",
    "print(np.expand_dims(arr6, axis = 0).ndim)"
   ]
  },
  {
   "cell_type": "markdown",
   "metadata": {},
   "source": [
    "10. How to transpose the following array in NumPy?\n",
    "\n",
    "[[1, 2, 3, 4],[5, 6, 7, 8],[9, 10, 11, 12]]"
   ]
  },
  {
   "cell_type": "code",
   "execution_count": 59,
   "metadata": {
    "vscode": {
     "languageId": "powershell"
    }
   },
   "outputs": [
    {
     "name": "stdout",
     "output_type": "stream",
     "text": [
      "[[ 1  5  9]\n",
      " [ 2  6 10]\n",
      " [ 3  7 11]\n",
      " [ 4  8 12]]\n"
     ]
    }
   ],
   "source": [
    "arr7 = np.array([[1, 2, 3, 4],[5, 6, 7, 8],[9, 10, 11, 12]])\n",
    "print(arr7.T)"
   ]
  },
  {
   "cell_type": "markdown",
   "metadata": {},
   "source": [
    "11. Consider the following matrix:\n",
    "\n",
    "Matrix A2 [[1, 2, 3, 4] [5, 6, 7, 8],[9, 10, 11, 12]]\n",
    "\n",
    "Matrix B2 [[1, 2, 3, 4] [5, 6, 7, 8],[9, 10, 11, 12]]\n",
    "\n",
    "\n",
    "Perform the following operation using Python:\n",
    "1) Index wise multiplication\n",
    "2) Matrix multiplication\n",
    "3) Add both the matrics\n",
    "4) Subtract matrix B from A\n",
    "5) Divide Matrix B by A"
   ]
  },
  {
   "cell_type": "code",
   "execution_count": 68,
   "metadata": {
    "vscode": {
     "languageId": "powershell"
    }
   },
   "outputs": [
    {
     "name": "stdout",
     "output_type": "stream",
     "text": [
      "[[  1   4   9  16]\n",
      " [ 25  36  49  64]\n",
      " [ 81 100 121 144]]\n"
     ]
    }
   ],
   "source": [
    "\n",
    "Matrix_A2= np.array( [[1, 2, 3, 4] ,[5, 6, 7, 8],[9, 10, 11, 12]])\n",
    "Matrix_B2= np.array([[1, 2, 3, 4] ,[5, 6, 7, 8],[9, 10, 11, 12]])\n",
    "# Index_wise multiplication\n",
    "print(Matrix_A2 * Matrix_B2)"
   ]
  },
  {
   "cell_type": "code",
   "execution_count": 69,
   "metadata": {
    "vscode": {
     "languageId": "powershell"
    }
   },
   "outputs": [
    {
     "name": "stdout",
     "output_type": "stream",
     "text": [
      "[[ 30  70 110]\n",
      " [ 70 174 278]\n",
      " [110 278 446]]\n"
     ]
    }
   ],
   "source": [
    "# Matrix Multiplication\n",
    "print(Matrix_A2 @ Matrix_B2.T)"
   ]
  },
  {
   "cell_type": "code",
   "execution_count": 71,
   "metadata": {
    "vscode": {
     "languageId": "powershell"
    }
   },
   "outputs": [
    {
     "name": "stdout",
     "output_type": "stream",
     "text": [
      "[[ 2  4  6  8]\n",
      " [10 12 14 16]\n",
      " [18 20 22 24]]\n"
     ]
    }
   ],
   "source": [
    "# Add both the matrics\n",
    "print(Matrix_A2 + Matrix_B2)"
   ]
  },
  {
   "cell_type": "code",
   "execution_count": 74,
   "metadata": {
    "vscode": {
     "languageId": "powershell"
    }
   },
   "outputs": [
    {
     "name": "stdout",
     "output_type": "stream",
     "text": [
      "[[1. 1. 1. 1.]\n",
      " [1. 1. 1. 1.]\n",
      " [1. 1. 1. 1.]]\n"
     ]
    }
   ],
   "source": [
    "# Matrix division\n",
    "print(Matrix_B2/Matrix_A2)"
   ]
  },
  {
   "cell_type": "code",
   "execution_count": 75,
   "metadata": {
    "vscode": {
     "languageId": "powershell"
    }
   },
   "outputs": [
    {
     "name": "stdout",
     "output_type": "stream",
     "text": [
      "[[0 0 0 0]\n",
      " [0 0 0 0]\n",
      " [0 0 0 0]]\n"
     ]
    }
   ],
   "source": [
    "# Matrix Subtraction\n",
    "print(Matrix_B2 - Matrix_A2)"
   ]
  },
  {
   "cell_type": "markdown",
   "metadata": {},
   "source": [
    "12.  Which function in Numpy can be used to swap the byte order of an array?"
   ]
  },
  {
   "cell_type": "code",
   "execution_count": 89,
   "metadata": {
    "vscode": {
     "languageId": "powershell"
    }
   },
   "outputs": [
    {
     "name": "stdout",
     "output_type": "stream",
     "text": [
      "[[ 72057594037927936 144115188075855872]\n",
      " [288230376151711744 360287970189639680]]\n",
      "array.byteswap() function is used to swap byte order in numpy\n"
     ]
    }
   ],
   "source": [
    "arr8 = np.array([[1,2],[4,5]])\n",
    "print(arr8.byteswap(1))\n",
    "print(\"array.byteswap() function is used to swap byte order in numpy\")"
   ]
  },
  {
   "cell_type": "markdown",
   "metadata": {},
   "source": [
    "13.  What is the significance of the np.linalg.inv function?"
   ]
  },
  {
   "cell_type": "code",
   "execution_count": 97,
   "metadata": {
    "vscode": {
     "languageId": "powershell"
    }
   },
   "outputs": [
    {
     "name": "stdout",
     "output_type": "stream",
     "text": [
      "[[-2.31296463e-17  9.25185854e-18]\n",
      " [ 1.85037171e-17 -4.62592927e-18]]\n"
     ]
    },
    {
     "data": {
      "text/plain": [
       "'np.linalg.inv is inverse method used in matrix calculation present in linear algebra.\\n\\n    The significance of np.linalg.inv is that it directly takes the inverse of a matrix.'"
      ]
     },
     "execution_count": 97,
     "metadata": {},
     "output_type": "execute_result"
    }
   ],
   "source": [
    "print(np.linalg.inv(arr8))\n",
    "\"\"\"np.linalg.inv is inverse method used in matrix calculation present in linear algebra.\n",
    "\n",
    "    The significance of np.linalg.inv is that it directly takes the inverse of a matrix.\"\"\""
   ]
  },
  {
   "cell_type": "markdown",
   "metadata": {},
   "source": [
    "4. What does the np.reshape function do, and how is it used?"
   ]
  },
  {
   "cell_type": "code",
   "execution_count": 108,
   "metadata": {
    "vscode": {
     "languageId": "powershell"
    }
   },
   "outputs": [
    {
     "name": "stdout",
     "output_type": "stream",
     "text": [
      "Before reshape\n",
      "[[1 2]\n",
      " [3 4]\n",
      " [5 6]]\n",
      "After Reshape\n",
      "[[1 2 3]\n",
      " [4 5 6]]\n",
      "1) reshape function reshapes the given matrix in to some other given no of rows and columns\n",
      "2) This reshape function will reshape any matrix but the given no of rows and columns product must be equal to the original matrix( before reshaping)\n"
     ]
    }
   ],
   "source": [
    "arr9 = np.array([[1,2],[3,4],[5,6]])\n",
    "print(\"Before reshape\")\n",
    "print(f\"{arr9}\")\n",
    "print(f\"After Reshape\")\n",
    "print(np.reshape(arr9,(2,3)))\n",
    "\n",
    "print(f\"1) reshape function reshapes the given matrix in to some other given no of rows and columns\" )\n",
    "print(f\"2) This reshape function will reshape any matrix but the given no of rows and columns product must be equal to the original matrix( before reshaping)\")\n"
   ]
  },
  {
   "cell_type": "markdown",
   "metadata": {},
   "source": [
    "15. What is broadcasting in Numpy?"
   ]
  },
  {
   "cell_type": "markdown",
   "metadata": {},
   "source": [
    "1) The ability of numpy to perform arithmatic operations between arrays of different shapes.\n",
    "2) The shapes must be compatible.\n",
    "3) If the arrays shapes are compatible , so  numpy will broadcast one of it to another or both of them to some third array.\n",
    "4) Broadcasting is a powerful mechanism in Numpy, which differentiate Numpy from others."
   ]
  },
  {
   "cell_type": "code",
   "execution_count": 116,
   "metadata": {
    "vscode": {
     "languageId": "powershell"
    }
   },
   "outputs": [
    {
     "data": {
      "text/plain": [
       "array([[ 0,  2,  4,  6,  8],\n",
       "       [10, 12, 14, 16, 18]])"
      ]
     },
     "execution_count": 116,
     "metadata": {},
     "output_type": "execute_result"
    }
   ],
   "source": [
    "# Example of Broadcasting\n",
    "var1 = np.array(np.arange(0,20,2,)).reshape(2,5)\n",
    "var1"
   ]
  },
  {
   "cell_type": "code",
   "execution_count": 119,
   "metadata": {
    "vscode": {
     "languageId": "powershell"
    }
   },
   "outputs": [
    {
     "name": "stdout",
     "output_type": "stream",
     "text": [
      "[[10 12 14 16 18]\n",
      " [20 22 24 26 28]]\n"
     ]
    },
    {
     "data": {
      "text/plain": [
       "\" var1 is matrix and 'a 'is a simple scalar variable, so by doing addition between them, this scalar is added to each and every element of matrix.\""
      ]
     },
     "execution_count": 119,
     "metadata": {},
     "output_type": "execute_result"
    }
   ],
   "source": [
    "a  = 10\n",
    "print( var1 + a )\n",
    "\"\"\" var1 is matrix and 'a 'is a simple scalar variable, so by doing addition between them, this scalar is added to each and every element of matrix.\"\"\""
   ]
  },
  {
   "cell_type": "code",
   "execution_count": 122,
   "metadata": {
    "vscode": {
     "languageId": "powershell"
    }
   },
   "outputs": [
    {
     "data": {
      "text/plain": [
       "array([0, 1, 2])"
      ]
     },
     "execution_count": 122,
     "metadata": {},
     "output_type": "execute_result"
    }
   ],
   "source": [
    "# Example of Braodcasting\n",
    "var2 = np.arange(3)\n",
    "var2"
   ]
  },
  {
   "cell_type": "code",
   "execution_count": 124,
   "metadata": {
    "vscode": {
     "languageId": "powershell"
    }
   },
   "outputs": [
    {
     "data": {
      "text/plain": [
       "array([[0],\n",
       "       [1],\n",
       "       [2]])"
      ]
     },
     "execution_count": 124,
     "metadata": {},
     "output_type": "execute_result"
    }
   ],
   "source": [
    "var3 = np.arange(3).reshape(3,1)\n",
    "var3\n"
   ]
  },
  {
   "cell_type": "code",
   "execution_count": 126,
   "metadata": {
    "vscode": {
     "languageId": "powershell"
    }
   },
   "outputs": [
    {
     "name": "stdout",
     "output_type": "stream",
     "text": [
      "[[0 1 2]\n",
      " [1 2 3]\n",
      " [2 3 4]]\n"
     ]
    },
    {
     "data": {
      "text/plain": [
       "'Here both var2 and var3 are broadcasted to some other shape'"
      ]
     },
     "execution_count": 126,
     "metadata": {},
     "output_type": "execute_result"
    }
   ],
   "source": [
    "print(var2 + var3)\n",
    "\"\"\"Here both var2 and var3 are broadcasted to some other shape\"\"\""
   ]
  }
 ],
 "metadata": {
  "kernelspec": {
   "display_name": "Python 3",
   "language": "python",
   "name": "python3"
  },
  "language_info": {
   "codemirror_mode": {
    "name": "ipython",
    "version": 3
   },
   "file_extension": ".py",
   "mimetype": "text/x-python",
   "name": "python",
   "nbconvert_exporter": "python",
   "pygments_lexer": "ipython3",
   "version": "3.11.4"
  }
 },
 "nbformat": 4,
 "nbformat_minor": 2
}
